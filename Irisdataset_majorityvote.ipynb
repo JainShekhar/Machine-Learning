{
 "cells": [
  {
   "cell_type": "code",
   "execution_count": 44,
   "id": "6a7701d6",
   "metadata": {},
   "outputs": [],
   "source": [
    "import numpy as np\n",
    "import pandas as pd\n",
    "from sklearn import datasets\n",
    "from sklearn.model_selection import train_test_split, cross_val_score\n",
    "from sklearn.preprocessing import StandardScaler, LabelEncoder\n",
    "from sklearn.linear_model import LogisticRegression\n",
    "from sklearn.tree import DecisionTreeClassifier\n",
    "from sklearn.neighbors import KNeighborsClassifier\n",
    "from sklearn.pipeline import Pipeline"
   ]
  },
  {
   "cell_type": "code",
   "execution_count": 45,
   "id": "cd793883",
   "metadata": {},
   "outputs": [],
   "source": [
    "iris = datasets.load_iris()"
   ]
  },
  {
   "cell_type": "code",
   "execution_count": 46,
   "id": "a1dcb979",
   "metadata": {},
   "outputs": [],
   "source": [
    "X,y = iris.data[50:, [1,2]], iris.target[50:]"
   ]
  },
  {
   "cell_type": "code",
   "execution_count": 47,
   "id": "08dd925b",
   "metadata": {},
   "outputs": [],
   "source": [
    "le = LabelEncoder()\n",
    "y = le.fit_transform(y)"
   ]
  },
  {
   "cell_type": "code",
   "execution_count": 48,
   "id": "a63a4382",
   "metadata": {},
   "outputs": [],
   "source": [
    "X_train, X_test, y_train, y_test = train_test_split(X,y,test_size=0.5,random_state=1,stratify=y)"
   ]
  },
  {
   "cell_type": "code",
   "execution_count": 49,
   "id": "0c20cda7",
   "metadata": {},
   "outputs": [],
   "source": [
    "clf1 = LogisticRegression(C=0.001, penalty='l2', solver='lbfgs', random_state=1)"
   ]
  },
  {
   "cell_type": "code",
   "execution_count": 50,
   "id": "5e2f49ca",
   "metadata": {},
   "outputs": [],
   "source": [
    "clf2 = DecisionTreeClassifier(max_depth=1, criterion='entropy', random_state=1)"
   ]
  },
  {
   "cell_type": "code",
   "execution_count": 51,
   "id": "832557b1",
   "metadata": {},
   "outputs": [],
   "source": [
    "clf3 = KNeighborsClassifier(n_neighbors=1, p=2, metric='minkowski')"
   ]
  },
  {
   "cell_type": "code",
   "execution_count": 52,
   "id": "ca33512a",
   "metadata": {},
   "outputs": [],
   "source": [
    "pipe1 = Pipeline([['sc', StandardScaler()], ['clf', clf1]])"
   ]
  },
  {
   "cell_type": "code",
   "execution_count": 53,
   "id": "4e6612e2",
   "metadata": {},
   "outputs": [],
   "source": [
    "pipe3 = Pipeline([['sc', StandardScaler()], ['clf', clf3]])"
   ]
  },
  {
   "cell_type": "code",
   "execution_count": 54,
   "id": "8a55df40",
   "metadata": {},
   "outputs": [],
   "source": [
    "clf_labels = ['Logistic Regression', 'Decision Tree', 'KNN']"
   ]
  },
  {
   "cell_type": "code",
   "execution_count": 55,
   "id": "441997d9",
   "metadata": {},
   "outputs": [
    {
     "name": "stdout",
     "output_type": "stream",
     "text": [
      "10-fold cross validation:\n",
      "\n",
      "ROC AUC: 0.92 (+/- 0.15) [Logistic Regression]\n",
      "ROC AUC: 0.87 (+/- 0.18) [Decision Tree]\n",
      "ROC AUC: 0.85 (+/- 0.13) [KNN]\n"
     ]
    }
   ],
   "source": [
    "print('10-fold cross validation:\\n')\n",
    "for clf, label in zip([pipe1,clf2,pipe3],clf_labels):\n",
    "    scores = cross_val_score(estimator=clf,X=X_train,y=y_train,cv=10,scoring='roc_auc')\n",
    "    print(\"ROC AUC: %0.2f (+/- %0.2f) [%s]\" % (scores.mean(), scores.std(), label))"
   ]
  },
  {
   "cell_type": "code",
   "execution_count": 56,
   "id": "0dca9f1d",
   "metadata": {},
   "outputs": [],
   "source": [
    "from sklearn.base import BaseEstimator, ClassifierMixin, clone\n",
    "from sklearn.pipeline import _name_estimators"
   ]
  },
  {
   "cell_type": "code",
   "execution_count": 57,
   "id": "e62dc54f",
   "metadata": {},
   "outputs": [],
   "source": [
    "import operator"
   ]
  },
  {
   "cell_type": "code",
   "execution_count": 61,
   "id": "c77a47e3",
   "metadata": {},
   "outputs": [],
   "source": [
    "class MajorityVoteClassifier(BaseEstimator,ClassifierMixin):\n",
    "    def __init__(self,classifiers,vote='classlabel',weights=None):\n",
    "        self.classifiers = classifiers\n",
    "        self.named_classifiers = {key: value for key, value in _name_estimators(classifiers)}\n",
    "        self.vote = vote\n",
    "        self.weights = weights\n",
    "    \n",
    "    def fit(self,X,y):\n",
    "        self.labelenc_ = LabelEncoder()\n",
    "        self.labelenc_.fit(y)\n",
    "        self.classes_ = self.labelenc_.classes_\n",
    "        self.classifiers_ = []\n",
    "        for clf in self.classifiers:\n",
    "            fitted_clf = clone(clf).fit(X,self.labelenc_.transform(y))\n",
    "            self.classifiers_.append(fitted_clf)\n",
    "        return self\n",
    "    \n",
    "    def predict(self,X):\n",
    "        if (self.vote=='probability'):\n",
    "            probas = np.asarray([clf.predict_proba(X) for clf in self.classifiers_])\n",
    "            avg_probas = np.average(probas, axis=0, weights=self.weights)\n",
    "            maj_vote = np.argmax(avg_probas, axis=1)\n",
    "        else: #'classlabel'\n",
    "            predictions = np.asarray([clf.predict(X) for clf in self.classifiers_]).T\n",
    "            maj_vote = np.apply_along_axis(lambda x: np.argmax(np.bincount(x,weights=self.weights)), axis=1, arr=predictions)\n",
    "        maj_vote = self.labelenc_.inverse_transform(maj_vote)\n",
    "    \n",
    "    def predict_proba(self,X):\n",
    "        probas = np.asarray([clf.predict_proba(X) for clf in self.classifiers_])\n",
    "        avg_probas = np.average(probas, axis=0, weights=self.weights)\n",
    "        return avg_probas    "
   ]
  },
  {
   "cell_type": "code",
   "execution_count": 62,
   "id": "d1fa3bab",
   "metadata": {},
   "outputs": [
    {
     "name": "stdout",
     "output_type": "stream",
     "text": [
      "10-fold cross validation:\n",
      "\n",
      "ROC AUC: 0.92 (+/- 0.15) [Logistic Regression]\n",
      "ROC AUC: 0.87 (+/- 0.18) [Decision Tree]\n",
      "ROC AUC: 0.85 (+/- 0.13) [KNN]\n",
      "ROC AUC: 0.98 (+/- 0.05) [Majority Classifier]\n"
     ]
    }
   ],
   "source": [
    "mv_clf = MajorityVoteClassifier(classifiers=[pipe1, clf2, pipe3])\n",
    "all_clf_labels = ['Logistic Regression', 'Decision Tree', 'KNN', 'Majority Classifier']\n",
    "print('10-fold cross validation:\\n')\n",
    "for clf, label in zip([pipe1,clf2,pipe3,mv_clf],all_clf_labels):\n",
    "    scores = cross_val_score(estimator=clf,X=X_train,y=y_train,cv=10,scoring='roc_auc')\n",
    "    print(\"ROC AUC: %0.2f (+/- %0.2f) [%s]\" % (scores.mean(), scores.std(), label))"
   ]
  },
  {
   "cell_type": "code",
   "execution_count": 67,
   "id": "d2324f3a",
   "metadata": {},
   "outputs": [
    {
     "name": "stdout",
     "output_type": "stream",
     "text": [
      "Accuracy:\n",
      "\n",
      "Training accuracy score: 0.86 [Logistic Regression]\n",
      "Testing accuracy score: 0.84 [Logistic Regression]\n",
      "Training accuracy score: 0.94 [Decision Tree]\n",
      "Testing accuracy score: 0.90 [Decision Tree]\n",
      "Training accuracy score: 1.00 [KNN]\n",
      "Testing accuracy score: 0.86 [KNN]\n"
     ]
    }
   ],
   "source": [
    "from sklearn.metrics import accuracy_score\n",
    "print('Accuracy:\\n')\n",
    "for clf, label in zip([pipe1,clf2,pipe3],clf_labels):\n",
    "    clf_fit = clf.fit(X_train,y_train)\n",
    "    y_train_pred = clf.predict(X_train)\n",
    "    if (label == pipe1):\n",
    "        X_test_std = pipe1['sc'].transform(X_test)\n",
    "    elif (label == pipe3):\n",
    "        X_test_std = pipe3['sc'].transform(X_test)\n",
    "    else:\n",
    "        X_test_std = X_test\n",
    "    y_test_pred = clf.predict(X_test_std)\n",
    "    acc_train = accuracy_score(y_train,y_train_pred)\n",
    "    acc_test = accuracy_score(y_test,y_test_pred)\n",
    "    print(\"Training accuracy score: %2.2f [%s]\" % (acc_train,label))\n",
    "    print(\"Testing accuracy score: %2.2f [%s]\" % (acc_test,label))"
   ]
  },
  {
   "cell_type": "code",
   "execution_count": 70,
   "id": "48a9070e",
   "metadata": {},
   "outputs": [
    {
     "name": "stdout",
     "output_type": "stream",
     "text": [
      "Training accuracy score: 1.00 [Bag Classifier]\n",
      "Testing accuracy score: 0.86 [Bag Classifier]\n"
     ]
    }
   ],
   "source": [
    "from sklearn.ensemble import BaggingClassifier\n",
    "from sklearn.metrics import accuracy_score\n",
    "bag = BaggingClassifier(base_estimator=clf2,n_estimators=100,max_samples=1,max_features=1,bootstrap=True,bootstrap_features=False,n_jobs=1,random_state=1)\n",
    "bag.fit(X_train,y_train)\n",
    "y_train_predict = bag.predict(X_train)\n",
    "y_test_predict = bag.predict(X_test)\n",
    "acc_train = accuracy_score(y_train,y_train_pred)\n",
    "acc_test = accuracy_score(y_test,y_test_pred)\n",
    "label = \"Bag Classifier\"\n",
    "print(\"Training accuracy score: %2.2f [%s]\" % (acc_train,label))\n",
    "print(\"Testing accuracy score: %2.2f [%s]\" % (acc_test,label))"
   ]
  },
  {
   "cell_type": "code",
   "execution_count": 73,
   "id": "3b8c915e",
   "metadata": {},
   "outputs": [
    {
     "name": "stdout",
     "output_type": "stream",
     "text": [
      "Training accuracy score: 1.00 [Stump Tree Classifier]\n",
      "Testing accuracy score: 0.86 [Stump Tree Classifier]\n"
     ]
    }
   ],
   "source": [
    "tree = DecisionTreeClassifier(criterion='gini',max_depth=1,random_state=1)\n",
    "tree.fit(X_train,y_train)\n",
    "y_train_predict = tree.predict(X_train)\n",
    "y_test_predict = tree.predict(X_test)\n",
    "acc_train = accuracy_score(y_train,y_train_pred)\n",
    "acc_test = accuracy_score(y_test,y_test_pred)\n",
    "label = \"Stump Tree Classifier\"\n",
    "print(\"Training accuracy score: %2.2f [%s]\" % (acc_train,label))\n",
    "print(\"Testing accuracy score: %2.2f [%s]\" % (acc_test,label))"
   ]
  },
  {
   "cell_type": "code",
   "execution_count": 79,
   "id": "304b3ebc",
   "metadata": {},
   "outputs": [
    {
     "name": "stdout",
     "output_type": "stream",
     "text": [
      "Training accuracy score: 1.00 [AdaBoost Classifier]\n",
      "Testing accuracy score: 0.86 [AdaBoost Classifier]\n"
     ]
    }
   ],
   "source": [
    "from sklearn.ensemble import AdaBoostClassifier\n",
    "ada = AdaBoostClassifier(base_estimator=tree,n_estimators=100,learning_rate=0.1,random_state=1)\n",
    "ada.fit(X_train,y_train)\n",
    "y_train_predict = ada.predict(X_train)\n",
    "y_test_predict = ada.predict(X_test)\n",
    "acc_train = accuracy_score(y_train,y_train_pred)\n",
    "acc_test = accuracy_score(y_test,y_test_pred)\n",
    "label = \"AdaBoost Classifier\"\n",
    "print(\"Training accuracy score: %2.2f [%s]\" % (acc_train,label))\n",
    "print(\"Testing accuracy score: %2.2f [%s]\" % (acc_test,label))"
   ]
  },
  {
   "cell_type": "code",
   "execution_count": 132,
   "id": "29e2ba24",
   "metadata": {},
   "outputs": [],
   "source": [
    "y_train_boost = np.where(y_train == 0,-1,1)\n",
    "w = np.full((len(X_train)),1/len(X_train))\n",
    "for i in range(100):\n",
    "    tree.fit(X_train,y_train_boost,w)\n",
    "    ypredict = tree.predict(X_train)\n",
    "    arr1 = abs(ypredict - y_train_boost)/2\n",
    "    error = np.dot(w,arr1.T)\n",
    "    alpha = 0.5*np.log((1 - error)/error)\n",
    "    arr2 = np.where(arr1 == 0,1,-1)\n",
    "    w = w*np.exp(-alpha*arr2)\n",
    "    w = w/np.sum(w)\n",
    "    final_pred = final_pred + alpha*ypredict"
   ]
  },
  {
   "cell_type": "code",
   "execution_count": 133,
   "id": "32f9a976",
   "metadata": {},
   "outputs": [],
   "source": [
    "final_pred_y = np.where(final_pred <0,0,1)"
   ]
  },
  {
   "cell_type": "code",
   "execution_count": null,
   "id": "f4abea48",
   "metadata": {},
   "outputs": [],
   "source": []
  }
 ],
 "metadata": {
  "kernelspec": {
   "display_name": "Python 3",
   "language": "python",
   "name": "python3"
  },
  "language_info": {
   "codemirror_mode": {
    "name": "ipython",
    "version": 3
   },
   "file_extension": ".py",
   "mimetype": "text/x-python",
   "name": "python",
   "nbconvert_exporter": "python",
   "pygments_lexer": "ipython3",
   "version": "3.8.8"
  }
 },
 "nbformat": 4,
 "nbformat_minor": 5
}
